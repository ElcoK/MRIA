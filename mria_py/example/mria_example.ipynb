{
 "cells": [
  {
   "cell_type": "markdown",
   "metadata": {},
   "source": [
    "## Example file\n",
    "\n",
    "This notebook show how to work with the MRIA model with a fictive industry x industry input-output table.\n",
    "\n",
    "Let's first load the required python modules, outside the modules within this package:"
   ]
  },
  {
   "cell_type": "code",
   "execution_count": 1,
   "metadata": {
    "collapsed": true
   },
   "outputs": [],
   "source": [
    "import os\n",
    "import pandas as pd \n",
    "import geopandas as gp\n",
    "import numpy as np\n",
    "import matplotlib."
   ]
  },
  {
   "cell_type": "markdown",
   "metadata": {},
   "source": [
    "And now the mria_py modules:"
   ]
  },
  {
   "cell_type": "code",
   "execution_count": 2,
   "metadata": {
    "collapsed": true
   },
   "outputs": [],
   "source": [
    "from create_table import Table\n",
    "from base_model import MRIA"
   ]
  },
  {
   "cell_type": "markdown",
   "metadata": {},
   "source": [
    "The 'create_table' module will load the input-output table from an external source and prepares it for use within the MRIA model. The 'base_model' module is the MRIA model itself.\n",
    "\n",
    "The next step is to specify the filepath of the input-output table:"
   ]
  },
  {
   "cell_type": "code",
   "execution_count": 3,
   "metadata": {
    "collapsed": true
   },
   "outputs": [],
   "source": [
    "filepath = '..\\input_data\\The_Vale.xlsx'"
   ]
  },
  {
   "cell_type": "markdown",
   "metadata": {},
   "source": [
    "In some cases, you only want to use a subset of the table. As such, we need to specify a list of countries to be used in the model:"
   ]
  },
  {
   "cell_type": "code",
   "execution_count": 4,
   "metadata": {
    "collapsed": true
   },
   "outputs": [],
   "source": [
    "list_countries = ['Elms','Hazel','Montagu','Fogwell','Riverside','Oatlands']"
   ]
  },
  {
   "cell_type": "markdown",
   "metadata": {},
   "source": [
    "We can now create a new data object and run the 'prepare data' script: "
   ]
  },
  {
   "cell_type": "code",
   "execution_count": 7,
   "metadata": {
    "collapsed": true
   },
   "outputs": [],
   "source": [
    "DATA = Table('TheVale',filepath,2010,list_countries)\n",
    "DATA.prep_data()"
   ]
  },
  {
   "cell_type": "markdown",
   "metadata": {},
   "source": [
    "And now we can create the a model instance:"
   ]
  },
  {
   "cell_type": "code",
   "execution_count": 8,
   "metadata": {
    "collapsed": true
   },
   "outputs": [],
   "source": [
    "MRIA_model = MRIA('TheVale',list_countries,DATA.sectors)\n",
    "MRIA_model.create_sets(FD_SET=['FinDem'])\n",
    "MRIA_model.create_alias()"
   ]
  },
  {
   "cell_type": "markdown",
   "metadata": {},
   "source": [
    "The next step is to transform the data from the table into a set of parameters and variables to be used in the MRIA model:"
   ]
  },
  {
   "cell_type": "code",
   "execution_count": 9,
   "metadata": {
    "collapsed": true
   },
   "outputs": [],
   "source": [
    "MRIA_model.baseline_data(DATA)    "
   ]
  },
  {
   "cell_type": "markdown",
   "metadata": {},
   "source": [
    "And before we want to run it, we want to create a dataframe to save the outcomes of the model:"
   ]
  },
  {
   "cell_type": "code",
   "execution_count": 11,
   "metadata": {},
   "outputs": [],
   "source": [
    "output = pd.DataFrame()\n",
    "output['x_in'] = pd.Series(MRIA_model.X.get_values())"
   ]
  },
  {
   "cell_type": "markdown",
   "metadata": {},
   "source": [
    "Let's run the baseline model!"
   ]
  },
  {
   "cell_type": "code",
   "execution_count": 12,
   "metadata": {},
   "outputs": [
    {
     "name": "stdout",
     "output_type": "stream",
     "text": [
      "Ipopt 3.11.1: warm_start_init_point=yes\n",
      "warm_start_bound_push=1e-06\n",
      "warm_start_mult_bound_push=1e-06\n",
      "mu_init=1e-06\n",
      "\n",
      "\n",
      "******************************************************************************\n",
      "This program contains Ipopt, a library for large-scale nonlinear optimization.\n",
      " Ipopt is released as open source code under the Eclipse Public License (EPL).\n",
      "         For more information visit http://projects.coin-or.org/Ipopt\n",
      "******************************************************************************\n",
      "\n",
      "NOTE: You are using Ipopt by default with the MUMPS linear solver.\n",
      "      Other linear solvers might be more efficient (see Ipopt documentation).\n",
      "\n",
      "\n",
      "This is Ipopt version 3.11.1, running with linear solver mumps.\n",
      "\n",
      "Number of nonzeros in equality constraint Jacobian...:        0\n",
      "Number of nonzeros in inequality constraint Jacobian.:      551\n",
      "Number of nonzeros in Lagrangian Hessian.............:        0\n",
      "\n",
      "Total number of variables............................:       24\n",
      "                     variables with only lower bounds:        0\n",
      "                variables with lower and upper bounds:       24\n",
      "                     variables with only upper bounds:        0\n",
      "Total number of equality constraints.................:        0\n",
      "Total number of inequality constraints...............:       24\n",
      "        inequality constraints with only lower bounds:        0\n",
      "   inequality constraints with lower and upper bounds:        0\n",
      "        inequality constraints with only upper bounds:       24\n",
      "\n",
      "iter    objective    inf_pr   inf_du lg(mu)  ||d||  lg(rg) alpha_du alpha_pr  ls\n",
      "   0 4.5207038e+006 0.00e+000 1.00e+000  -6.0 0.00e+000    -  0.00e+000 0.00e+000   0\n",
      "   1 4.4792929e+006 3.12e+003 9.82e-001  -6.0 6.27e+004    -  5.29e-001 8.40e-002f  1\n",
      "   2r4.4792929e+006 3.12e+003 9.99e+002   3.5 0.00e+000    -  0.00e+000 4.44e-007R  4\n",
      "   3r4.4817460e+006 3.10e+003 1.00e+003   3.5 6.97e+008    -  8.59e-006 2.36e-007f  5\n",
      "   4r4.4995238e+006 1.43e+003 9.99e+002   2.1 4.82e+006    -  7.32e-002 6.39e-004f  1\n",
      "   5 4.4990508e+006 1.46e+003 9.83e-001  -6.0 9.91e+006    -  5.32e-003 5.97e-006f  1\n",
      "   6 4.4984865e+006 1.46e+003 9.83e-001  -6.0 8.22e+005    -  2.01e-002 1.16e-004f  1\n",
      "   7 4.4981085e+006 1.46e+003 9.83e-001  -6.0 1.24e+005    -  3.70e-002 7.50e-004f  1\n",
      "   8 4.4979899e+006 1.46e+003 9.81e-001  -6.0 3.52e+004    -  5.09e-002 2.62e-003f  1\n",
      "   9r4.4979899e+006 1.46e+003 9.99e+002   3.2 0.00e+000    -  0.00e+000 1.36e-008R  2\n",
      "iter    objective    inf_pr   inf_du lg(mu)  ||d||  lg(rg) alpha_du alpha_pr  ls\n",
      "  10r4.4981557e+006 1.46e+003 1.00e+003   3.2 5.59e+009    -  1.77e-006 2.97e-008f  1\n",
      "  11r4.5002912e+006 1.25e+003 9.99e+002   1.8 1.82e+006    -  4.46e-002 1.78e-004f  1\n",
      "  12 4.5001399e+006 1.25e+003 1.10e+000  -6.0 3.35e+004    -  5.32e-001 5.10e-003f  1\n",
      "  13r4.5001399e+006 1.25e+003 9.99e+002   3.1 0.00e+000    -  0.00e+000 4.99e-010R  5\n",
      "  14r4.5012530e+006 1.25e+003 9.99e+002   3.1 3.10e+009    -  5.01e-006 2.87e-007f  2\n",
      "  15r4.5153769e+006 2.69e+002 8.38e+002   2.4 1.65e+006    -  1.98e-001 1.22e-003f  1\n",
      "  16 4.5143867e+006 2.63e+002 1.09e+000  -6.0 3.46e+004    -  3.17e-002 2.57e-002f  1\n",
      "  17 4.5143867e+006 2.63e+002 1.55e+000  -6.0 3.16e+004    -  6.06e-001 2.82e-008h  1\n",
      "  18 4.5186061e+006 8.75e+001 5.93e-001  -6.0 4.57e+002    -  9.94e-001 6.80e-001h  1\n",
      "  19 4.5206953e+006 3.53e-001 2.36e-003  -6.0 1.54e+002    -  9.98e-001 9.96e-001h  1\n",
      "iter    objective    inf_pr   inf_du lg(mu)  ||d||  lg(rg) alpha_du alpha_pr  ls\n",
      "  20 4.5207038e+006 0.00e+000 1.00e-011  -6.0 6.21e-001    -  1.00e+000 1.00e+000h  1\n",
      "  21 4.5207038e+006 0.00e+000 1.02e-014  -9.0 1.11e-006    -  1.00e+000 1.00e+000h  1\n",
      "\n",
      "Number of Iterations....: 21\n",
      "\n",
      "                                   (scaled)                 (unscaled)\n",
      "Objective...............:  4.5207037847929792e+006   4.5207037847929792e+006\n",
      "Dual infeasibility......:  1.0214051826551440e-014   1.0214051826551440e-014\n",
      "Constraint violation....:  0.0000000000000000e+000   0.0000000000000000e+000\n",
      "Complementarity.........:  1.0226640932944628e-009   1.0226640932944628e-009\n",
      "Overall NLP error.......:  1.0226640932944628e-009   1.0226640932944628e-009\n",
      "\n",
      "\n",
      "Number of objective function evaluations             = 41\n",
      "Number of objective gradient evaluations             = 19\n",
      "Number of equality constraint evaluations            = 0\n",
      "Number of inequality constraint evaluations          = 41\n",
      "Number of equality constraint Jacobian evaluations   = 0\n",
      "Number of inequality constraint Jacobian evaluations = 25\n",
      "Number of Lagrangian Hessian evaluations             = 21\n",
      "Total CPU secs in IPOPT (w/o function evaluations)   =      0.019\n",
      "Total CPU secs in NLP function evaluations           =      0.000\n",
      "\n",
      "EXIT: Optimal Solution Found.\n",
      "# ==========================================================\n",
      "# = Solver Results                                         =\n",
      "# ==========================================================\n",
      "# ----------------------------------------------------------\n",
      "#   Problem Information\n",
      "# ----------------------------------------------------------\n",
      "Problem: \n",
      "- Lower bound: -inf\n",
      "  Upper bound: inf\n",
      "  Number of objectives: 1\n",
      "  Number of constraints: 24\n",
      "  Number of variables: 24\n",
      "  Sense: unknown\n",
      "# ----------------------------------------------------------\n",
      "#   Solver Information\n",
      "# ----------------------------------------------------------\n",
      "Solver: \n",
      "- Status: ok\n",
      "  Message: Ipopt 3.11.1\\x3a Optimal Solution Found\n",
      "  Termination condition: optimal\n",
      "  Id: 0\n",
      "  Error rc: 0\n",
      "  Time: 0.10490846633911133\n",
      "# ----------------------------------------------------------\n",
      "#   Solution Information\n",
      "# ----------------------------------------------------------\n",
      "Solution: \n",
      "- number of solutions: 0\n",
      "  number of solutions displayed: 0\n"
     ]
    }
   ],
   "source": [
    "MRIA_model.run_basemodel()"
   ]
  },
  {
   "cell_type": "markdown",
   "metadata": {},
   "source": [
    "The model spits out the log file of the solver. As shown in the log file, the model has reached an optimal solution! Let's see if the solver also reproduced the baseline situation:"
   ]
  },
  {
   "cell_type": "code",
   "execution_count": 13,
   "metadata": {},
   "outputs": [
    {
     "name": "stdout",
     "output_type": "stream",
     "text": [
      "-0.0452070138836\n"
     ]
    }
   ],
   "source": [
    "output['x_out'] = pd.Series(MRIA_model.X.get_values())\n",
    "output['diff'] = output['x_out'] - output['x_in']\n",
    "\n",
    "print(sum(output['diff']))"
   ]
  },
  {
   "cell_type": "markdown",
   "metadata": {},
   "source": [
    "And in a quick visualisation:"
   ]
  },
  {
   "cell_type": "code",
   "execution_count": 17,
   "metadata": {},
   "outputs": [
    {
     "data": {
      "text/plain": [
       "<matplotlib.axes._subplots.AxesSubplot at 0x200de7011d0>"
      ]
     },
     "execution_count": 17,
     "metadata": {},
     "output_type": "execute_result"
    },
    {
     "data": {
      "image/png": "[encoded data removed]",
      "text/plain": [
       "<matplotlib.figure.Figure at 0x200de3cd2e8>"
      ]
     },
     "metadata": {},
     "output_type": "display_data"
    }
   ],
   "source": [
    "%matplotlib inline\n",
    "\n",
    "shape_TheVale = gp.read_file('..\\\\input_data\\\\The_Vale.shp')\n",
    "reg_loss = pd.DataFrame(output[['diff','x_in']].groupby(level=0).sum())\n",
    "reg_loss['Region'] = reg_loss.index\n",
    "\n",
    "reg_loss['diff'] = reg_loss['diff'].round()\n",
    "\n",
    "reg_shap = pd.merge(shape_TheVale, reg_loss, on='Region', how='inner')\n",
    "reg_shap.plot(column='diff', cmap='OrRd', legend=True) "
   ]
  },
  {
   "cell_type": "code",
   "execution_count": null,
   "metadata": {
    "collapsed": true
   },
   "outputs": [],
   "source": []
  }
 ],
 "metadata": {
  "kernelspec": {
   "display_name": "Python 3",
   "language": "python",
   "name": "python3"
  },
  "language_info": {
   "codemirror_mode": {
    "name": "ipython",
    "version": 3
   },
   "file_extension": ".py",
   "mimetype": "text/x-python",
   "name": "python",
   "nbconvert_exporter": "python",
   "pygments_lexer": "ipython3",
   "version": "3.6.2"
  }
 },
 "nbformat": 4,
 "nbformat_minor": 2
}
